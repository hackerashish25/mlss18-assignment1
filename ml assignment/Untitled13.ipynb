{
 "cells": [
  {
   "cell_type": "code",
   "execution_count": 1,
   "metadata": {},
   "outputs": [
    {
     "ename": "SyntaxError",
     "evalue": "invalid syntax (<ipython-input-1-7a578c9220ab>, line 2)",
     "output_type": "error",
     "traceback": [
      "\u001b[1;36m  File \u001b[1;32m\"<ipython-input-1-7a578c9220ab>\"\u001b[1;36m, line \u001b[1;32m2\u001b[0m\n\u001b[1;33m    importimport  pandaspandas  asas  pdpd\u001b[0m\n\u001b[1;37m                             ^\u001b[0m\n\u001b[1;31mSyntaxError\u001b[0m\u001b[1;31m:\u001b[0m invalid syntax\n"
     ]
    }
   ],
   "source": [
    "\n",
    "importimport  pandaspandas  asas  pdpd\n",
    " fromfrom  matplotlibmatplot  import pyplot as plt\n",
    "import matplotlib"
   ]
  },
  {
   "cell_type": "code",
   "execution_count": 2,
   "metadata": {
    "collapsed": true
   },
   "outputs": [],
   "source": [
    "import pandas as pd\n",
    "from matplotlib import pyplot as plt\n",
    "import matplotlib"
   ]
  },
  {
   "cell_type": "code",
   "execution_count": 6,
   "metadata": {},
   "outputs": [],
   "source": [
    "df = pd.read_csv(\"day.csv\")\n",
    "drop_list = ['instant', 'season', 'yr']"
   ]
  },
  {
   "cell_type": "code",
   "execution_count": 7,
   "metadata": {},
   "outputs": [],
   "source": [
    "\n",
    "matplotlib.rc('figure', figsize = (14, 7))"
   ]
  },
  {
   "cell_type": "code",
   "execution_count": 11,
   "metadata": {
    "collapsed": true
   },
   "outputs": [],
   "source": [
    "def scatter_plot(x_data, y_data, x_label, y_label, title):\n",
    "    \n",
    "    fig, ax = plt.subplots()\n",
    "    ax.scatter(x_data, y_data, s = 30, color = '#539caf', alpha = 0.75)\n",
    "    \n",
    "    ax.set_title(title)\n",
    "    ax.set_xlabel(x_label)\n",
    "    ax.set_ylabel(y_label)\n",
    "    \n",
    "    scatter_plot(x_data = df['temp']\n",
    "            , y_data = df['cnt']\n",
    "            , x_label = 'Normalized temperature (C)'\n",
    "            , y_label = 'Check outs'\n",
    "            , title = 'Number of Check Outs vs Temperature')"
   ]
  },
  {
   "cell_type": "code",
   "execution_count": 12,
   "metadata": {},
   "outputs": [],
   "source": [
    "def histogram(data, x_label, y_label, title):\n",
    "\n",
    "\n",
    "#Calling the function \"histogram\"\n",
    "     histogram(data = df['registered']\n",
    "           , x_label = 'Check outs'\n",
    "           , y_label = 'Frequency'\n",
    "           , title = 'Distribution of Registered Check Outs')"
   ]
  },
  {
   "cell_type": "code",
   "execution_count": 13,
   "metadata": {
    "collapsed": true
   },
   "outputs": [],
   "source": [
    "def lineplot(x_data, y_data, x_label, y_label, title):\n",
    "\n",
    "    \n",
    "    \n",
    "#Calling the function to create plot\n",
    "          lineplot(x_data = df['dteday']\n",
    "         , y_data = df['cnt']\n",
    "         , x_label = 'Date'\n",
    "         , y_label = 'Total Checkouts'\n",
    "         , title = 'Total Checkouts for Each Day')"
   ]
  },
  {
   "cell_type": "code",
   "execution_count": 14,
   "metadata": {
    "collapsed": true
   },
   "outputs": [],
   "source": [
    "\n",
    "#Fill the function given below#Fill t \n",
    "def lineplot2y(x_data, x_label, y1_data, y1_label, y2_data, y2_label, title):\n",
    "\n",
    "\n",
    "\n",
    "#Calling the function to create plot\n",
    "            lineplot2y(x_data = df['dteday']\n",
    "           , x_label = 'Date'\n",
    "           , y1_data = df['casual']\n",
    "           , y1_label = 'Casual Checkouts'\n",
    "           , y2_data = df['registered']\n",
    "           , y2_label = 'Registered Checkouts'\n",
    "           , title = 'No. of Registered vs Casual Checkouts for Each Day')"
   ]
  },
  {
   "cell_type": "code",
   "execution_count": null,
   "metadata": {
    "collapsed": true
   },
   "outputs": [],
   "source": []
  }
 ],
 "metadata": {
  "kernelspec": {
   "display_name": "Python 3",
   "language": "python",
   "name": "python3"
  }
 },
 "nbformat": 4,
 "nbformat_minor": 2
}
